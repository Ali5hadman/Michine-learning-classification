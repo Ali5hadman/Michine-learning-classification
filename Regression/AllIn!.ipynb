{
 "cells": [
  {
   "cell_type": "code",
   "execution_count": 2,
   "id": "16df0f64",
   "metadata": {},
   "outputs": [
    {
     "name": "stderr",
     "output_type": "stream",
     "text": [
      "<ipython-input-2-39867dc05c65>:18: SettingWithCopyWarning: \n",
      "A value is trying to be set on a copy of a slice from a DataFrame.\n",
      "Try using .loc[row_indexer,col_indexer] = value instead\n",
      "\n",
      "See the caveats in the documentation: https://pandas.pydata.org/pandas-docs/stable/user_guide/indexing.html#returning-a-view-versus-a-copy\n",
      "  df_numerical[' title_subjectivity']=df_numerical[' title_subjectivity'].apply(lambda x: math.log(x+1))\n",
      "<ipython-input-2-39867dc05c65>:19: SettingWithCopyWarning: \n",
      "A value is trying to be set on a copy of a slice from a DataFrame.\n",
      "Try using .loc[row_indexer,col_indexer] = value instead\n",
      "\n",
      "See the caveats in the documentation: https://pandas.pydata.org/pandas-docs/stable/user_guide/indexing.html#returning-a-view-versus-a-copy\n",
      "  df_numerical[' rate_positive_words']=df_numerical[' rate_positive_words'].apply(lambda x: math.log(x+1))\n",
      "<ipython-input-2-39867dc05c65>:20: SettingWithCopyWarning: \n",
      "A value is trying to be set on a copy of a slice from a DataFrame.\n",
      "Try using .loc[row_indexer,col_indexer] = value instead\n",
      "\n",
      "See the caveats in the documentation: https://pandas.pydata.org/pandas-docs/stable/user_guide/indexing.html#returning-a-view-versus-a-copy\n",
      "  df_numerical['topic_quality']=df_numerical['topic_quality'].apply(lambda x: math.log(x+1))\n",
      "<ipython-input-2-39867dc05c65>:21: SettingWithCopyWarning: \n",
      "A value is trying to be set on a copy of a slice from a DataFrame.\n",
      "Try using .loc[row_indexer,col_indexer] = value instead\n",
      "\n",
      "See the caveats in the documentation: https://pandas.pydata.org/pandas-docs/stable/user_guide/indexing.html#returning-a-view-versus-a-copy\n",
      "  df_numerical[' self_reference_avg_sharess']=df_numerical[' self_reference_avg_sharess'].apply(lambda x: math.log(x+1))\n",
      "<ipython-input-2-39867dc05c65>:22: SettingWithCopyWarning: \n",
      "A value is trying to be set on a copy of a slice from a DataFrame.\n",
      "Try using .loc[row_indexer,col_indexer] = value instead\n",
      "\n",
      "See the caveats in the documentation: https://pandas.pydata.org/pandas-docs/stable/user_guide/indexing.html#returning-a-view-versus-a-copy\n",
      "  df_numerical[' num_keywords']=df_numerical[' num_keywords'].apply(lambda x: math.log(x+1))\n",
      "<ipython-input-2-39867dc05c65>:23: SettingWithCopyWarning: \n",
      "A value is trying to be set on a copy of a slice from a DataFrame.\n",
      "Try using .loc[row_indexer,col_indexer] = value instead\n",
      "\n",
      "See the caveats in the documentation: https://pandas.pydata.org/pandas-docs/stable/user_guide/indexing.html#returning-a-view-versus-a-copy\n",
      "  df_numerical[' average_token_length']=df_numerical[' average_token_length'].apply(lambda x: math.log(x+1))\n",
      "<ipython-input-2-39867dc05c65>:24: SettingWithCopyWarning: \n",
      "A value is trying to be set on a copy of a slice from a DataFrame.\n",
      "Try using .loc[row_indexer,col_indexer] = value instead\n",
      "\n",
      "See the caveats in the documentation: https://pandas.pydata.org/pandas-docs/stable/user_guide/indexing.html#returning-a-view-versus-a-copy\n",
      "  df_numerical[' n_non_stop_words']=df_numerical[' n_non_stop_words'].apply(lambda x: math.log(x+1))\n"
     ]
    },
    {
     "name": "stdout",
     "output_type": "stream",
     "text": [
      "(19600, 50) (8400, 50)\n"
     ]
    }
   ],
   "source": [
    "import pandas as pd\n",
    "import numpy as np\n",
    "import math\n",
    "%matplotlib inline\n",
    "import seaborn as sns\n",
    "import matplotlib.pyplot as plt\n",
    "\n",
    "df = pd.read_csv('model.csv')\n",
    "#df = df[df['likes']<20000]\n",
    "\n",
    "\n",
    "df_numerical=df.select_dtypes(include=[np.number])\n",
    "df_categorical=df.select_dtypes(include=['object'])\n",
    "dummies = pd.get_dummies(df_categorical) \n",
    "\n",
    "\n",
    "# #TRYING THE LOGARITHMIC EXPRESSION ON THE DATA: \n",
    "df_numerical[' title_subjectivity']=df_numerical[' title_subjectivity'].apply(lambda x: math.log(x+1))\n",
    "df_numerical[' rate_positive_words']=df_numerical[' rate_positive_words'].apply(lambda x: math.log(x+1))\n",
    "df_numerical['topic_quality']=df_numerical['topic_quality'].apply(lambda x: math.log(x+1))\n",
    "df_numerical[' self_reference_avg_sharess']=df_numerical[' self_reference_avg_sharess'].apply(lambda x: math.log(x+1))\n",
    "df_numerical[' num_keywords']=df_numerical[' num_keywords'].apply(lambda x: math.log(x+1))\n",
    "df_numerical[' average_token_length']=df_numerical[' average_token_length'].apply(lambda x: math.log(x+1))\n",
    "df_numerical[' n_non_stop_words']=df_numerical[' n_non_stop_words'].apply(lambda x: math.log(x+1))\n",
    "\n",
    "\n",
    "\n",
    "\n",
    "\n",
    "\n",
    "##########################################################################################\n",
    "\n",
    "\n",
    "#ADDING AND REMOVING COLUMNS TO GET THE BEST VALUES:\n",
    "# df_numerical= df[['age_days',  ' n_unique_tokens', ' average_token_length', 'topic_quality','likes' ]]\n",
    "\n",
    "# df_categorical= df[['day','product_category', ' n_tokens_title',' num_keywords',' min_positive_polarity', ' max_positive_polarity',\n",
    "#                    ' min_negative_polarity',' max_negative_polarity',' abs_title_subjectivity',' abs_title_sentiment_polarity']]\n",
    "\n",
    "# dummies = pd.get_dummies(df_categorical) \n",
    "\n",
    "# df_numerical= df[['age_days',  ' n_tokens_review', ' n_unique_tokens',\n",
    "#        ' n_non_stop_words', ' n_non_stop_unique_tokens', ' num_hrefs',\n",
    "#        ' num_self_hrefs', ' num_imgs', ' num_videos', ' average_token_length',\n",
    "#        'topic_quality', 'topic_shipping', 'topic_packaging',\n",
    "#        'topic_description', 'topic_others', ' global_subjectivity',\n",
    "#        ' global_sentiment_polarity', ' global_rate_positive_words',\n",
    "#        ' global_rate_negative_words', ' rate_positive_words',\n",
    "#        ' rate_negative_words', ' avg_positive_polarity',\n",
    "#        ' avg_negative_polarity',  ' title_subjectivity',\n",
    "#        ' title_sentiment_polarity', \n",
    "#         'likes']]\n",
    "\n",
    "# df_numerical=df_numerical[['age_days',   ' n_unique_tokens', ' num_videos', ' average_token_length',\n",
    "#        ' num_keywords', ' self_reference_min_shares',\n",
    "#        ' self_reference_avg_sharess',\n",
    "#        'topic_quality', 'topic_shipping', \n",
    "#     'likes']]\n",
    "\n",
    "             \n",
    "##########################################################################################\n",
    "# # # Standarize\n",
    "# from sklearn.preprocessing import StandardScaler\n",
    "# scaler = StandardScaler().fit(df_numerical)\n",
    "# scaled_df = pd.DataFrame(scaler.transform(df_numerical))\n",
    "# scaled_df.columns = df_numerical.columns\n",
    "# scaled_df.head()\n",
    "# #Save the scaler\n",
    "# import pickle\n",
    "# pickle.dump(scaler, open('scaler.pkl', 'wb'))\n",
    "# scaled_df.boxplot()\n",
    "\n",
    "columns=df_numerical.columns\n",
    "from sklearn.preprocessing import MinMaxScaler\n",
    "mm_scaler =  MinMaxScaler(copy=False,feature_range=(0, 500))\n",
    "mm_scaler.fit(df_numerical)\n",
    "minmax_data=mm_scaler.transform(df_numerical)\n",
    "mmscaled_df=pd.DataFrame(minmax_data)\n",
    "mmscaled_df.columns = columns\n",
    "df_num=mmscaled_df\n",
    "##########################################################################################\n",
    "\n",
    "import math\n",
    "X=pd.concat([dummies,mmscaled_df], axis = 1)\n",
    "X=X.dropna(axis=0)\n",
    "y=df_numerical['likes'].apply(lambda x: math.log(x+1))\n",
    "z=X\n",
    "X=X.drop([\"likes\"], axis=1)\n",
    "\n",
    "##########################################################################################\n",
    "\n",
    "from sklearn.model_selection import train_test_split\n",
    "#SPLIT DATA INTO TRAIN AND TEST SET\n",
    "X_train, X_test, y_train, y_test = train_test_split(X, y, \n",
    "                                                    test_size =0.30, #by default is 75%-25%\n",
    "                                                    random_state= 123) #fix random seed for replicability\n",
    "\n",
    "print(X_train.shape, X_test.shape)\n",
    "\n",
    "\n",
    "\n",
    "##########################################################################################\n",
    "from sklearn.model_selection import GridSearchCV\n",
    "import math\n",
    "def gs_regression(model, par) :\n",
    "    gs = GridSearchCV(model, par,cv=3,scoring ='neg_mean_absolute_error') \n",
    "    gs = gs.fit(X_train,y_train)\n",
    "\n",
    "    #summarize the results of your GRIDSEARCH\n",
    "    print('***GRIDSEARCH RESULTS***')\n",
    "    print(\"Best score: %f using %s\" % (gs.best_score_, gs.best_params_))\n",
    "    means = gs.cv_results_['mean_test_score']\n",
    "    stds = gs.cv_results_['std_test_score']\n",
    "    params = gs.cv_results_['params']\n",
    "    #for mean, stdev, param in zip(means, stds, params):\n",
    "    #    print(\"%f (%f) with: %r\" % (mean, stdev, param))\n",
    "    \n",
    "    y_pred_train=gs.predict(X_train)\n",
    "    y_pred_test=gs.predict(X_test) \n",
    "    \n",
    "    y_train_exp=y_train.apply(lambda x: math.exp(x)-1)\n",
    "    y_test_exp=y_test.apply(lambda x: math.exp(x)-1)\n",
    "    y_pred_train_exp=np.exp(y_pred_train)-1\n",
    "    y_pred_test_exp=np.exp(y_pred_test)-1\n",
    "    \n",
    "            \n",
    "    from sklearn import metrics\n",
    "    print()\n",
    "    print(\"MAE  train %.3f (%f)  test %.3f (%f)\" % (metrics.mean_absolute_error(y_train, y_pred_train), metrics.mean_absolute_error(y_train_exp, y_pred_train_exp) ,metrics.mean_absolute_error(y_test, y_pred_test),  metrics.mean_absolute_error(y_test_exp, y_pred_test_exp)  ) )\n",
    "    print(\"MSE  train %.3f              test %.3f\" % (metrics.mean_squared_error(y_train, y_pred_train), metrics.mean_squared_error(y_test, y_pred_test)) ) \n",
    "    print(\"RMSE train %.3f              test %.3f\" % (np.sqrt(metrics.mean_squared_error(y_train, y_pred_train)), np.sqrt(metrics.mean_squared_error(y_test, y_pred_test))) ) \n",
    "    print(\"r2   train %.3f              test %.3f\" % (metrics.r2_score(y_train, y_pred_train), metrics.r2_score(y_test, y_pred_test)) )\n"
   ]
  },
  {
   "cell_type": "code",
   "execution_count": null,
   "id": "f7edf5a0",
   "metadata": {},
   "outputs": [],
   "source": [
    "##########################################################################################"
   ]
  },
  {
   "cell_type": "code",
   "execution_count": null,
   "id": "49c858e6",
   "metadata": {},
   "outputs": [],
   "source": [
    "##########################################################################################"
   ]
  },
  {
   "cell_type": "code",
   "execution_count": 16,
   "id": "319298d3",
   "metadata": {},
   "outputs": [],
   "source": [
    "##########################################################################################"
   ]
  },
  {
   "cell_type": "markdown",
   "id": "02a3bde4",
   "metadata": {},
   "source": [
    "# Chosen Model"
   ]
  },
  {
   "cell_type": "code",
   "execution_count": 3,
   "id": "acd47267",
   "metadata": {},
   "outputs": [
    {
     "name": "stdout",
     "output_type": "stream",
     "text": [
      "***GRIDSEARCH RESULTS***\n",
      "Best score: -0.652955 using {}\n",
      "\n",
      "MAE  train 0.651 (2443.891212)  test 0.654 (2400.811874)\n",
      "MSE  train 0.763              test 0.778\n",
      "RMSE train 0.873              test 0.882\n",
      "r2   train 0.113              test 0.095\n"
     ]
    }
   ],
   "source": [
    "from sklearn.linear_model import LinearRegression\n",
    "\n",
    "regressor = LinearRegression() \n",
    "parameters = {}\n",
    "\n",
    "gs_regression(regressor, parameters)"
   ]
  },
  {
   "cell_type": "code",
   "execution_count": 4,
   "id": "9dc5a261",
   "metadata": {},
   "outputs": [
    {
     "data": {
      "image/png": "[encoded data removed]",
      "text/plain": [
       "<Figure size 432x288 with 1 Axes>"
      ]
     },
     "metadata": {
      "needs_background": "light"
     },
     "output_type": "display_data"
    }
   ],
   "source": [
    "%matplotlib inline\n",
    "import matplotlib.pyplot as plt\n",
    "regressor = regressor.fit(X_train,y_train)\n",
    "\n",
    "plt.scatter(regressor.predict(X_train),regressor.predict(X_train)-y_train, c=\"b\", label=\"training data\")\n",
    "plt.scatter(regressor.predict(X_test),regressor.predict(X_test)-y_test, c=\"g\", label=\"hold out data\")\n",
    "plt.xlabel(\"Predicted Values\")\n",
    "plt.ylabel(\"Residuals\")\n",
    "plt.legend(loc=\"upper left\")\n",
    "plt.hlines(y=0, xmin=-10, xmax=50, color=\"r\")\n",
    "plt.xlim([6,10])\n",
    "plt.show()"
   ]
  },
  {
   "cell_type": "code",
   "execution_count": 5,
   "id": "d52d47ea",
   "metadata": {},
   "outputs": [
    {
     "data": {
      "text/plain": [
       "3406.2149313540936"
      ]
     },
     "execution_count": 5,
     "metadata": {},
     "output_type": "execute_result"
    }
   ],
   "source": [
    "# USING THE MEAN WHICH WOULD BE BETTER THAN USING ANY MODEL!\n",
    "l=[]\n",
    "for i in range(1,28001):\n",
    "  l.append(3408.232750)  \n",
    "type(l)\n",
    "list(z['likes'])\n",
    "from sklearn import metrics\n",
    "metrics.mean_absolute_error(list(z['likes']), l)"
   ]
  },
  {
   "cell_type": "markdown",
   "id": "7f55023f",
   "metadata": {},
   "source": [
    "# Errors"
   ]
  },
  {
   "cell_type": "code",
   "execution_count": 6,
   "id": "936d9b6c",
   "metadata": {},
   "outputs": [
    {
     "data": {
      "image/png": "[encoded data removed]",
      "text/plain": [
       "<Figure size 432x288 with 1 Axes>"
      ]
     },
     "metadata": {
      "needs_background": "light"
     },
     "output_type": "display_data"
    }
   ],
   "source": [
    "#retrain in the entire dataset\n",
    "\n",
    "LR = LinearRegression()\n",
    "LR.fit(X,y)\n",
    "y_pred=LR.predict(X)\n",
    "error=y_pred-y\n",
    "%matplotlib inline\n",
    "import matplotlib.pyplot as plt\n",
    "plt.scatter(y_pred,error, c=\"b\", label=\"training data\")\n",
    "plt.xlabel(\"Predicted Values\")\n",
    "plt.ylabel(\"Residuals\")\n",
    "plt.legend(loc=\"upper left\")\n",
    "plt.hlines(y=0, xmin=0, xmax=10, color=\"r\")\n",
    "plt.xlim([6.5,9.5])\n",
    "plt.show()"
   ]
  },
  {
   "cell_type": "code",
   "execution_count": 7,
   "id": "94798cd2",
   "metadata": {},
   "outputs": [
    {
     "data": {
      "text/plain": [
       "<matplotlib.legend.Legend at 0x15ff0c00c70>"
      ]
     },
     "execution_count": 7,
     "metadata": {},
     "output_type": "execute_result"
    },
    {
     "data": {
      "image/png": "[encoded data removed]",
      "text/plain": [
       "<Figure size 432x288 with 1 Axes>"
      ]
     },
     "metadata": {
      "needs_background": "light"
     },
     "output_type": "display_data"
    }
   ],
   "source": [
    "nb_error = np.array(error).flatten()\n",
    "\n",
    "error = np.array(error).reshape(-1,1)\n",
    "scaled_error= MinMaxScaler(copy=False).fit(error).transform(error).flatten()\n",
    "\n",
    "import numpy as np\n",
    "import scipy \n",
    "import statsmodels.api as sm\n",
    "from statsmodels.graphics.gofplots import qqplot_2samples\n",
    "from matplotlib import pyplot as plt\n",
    "import seaborn as sns\n",
    "\n",
    "\n",
    "# We test a exponential distribution\n",
    "dist = getattr(scipy.stats, 'norm')\n",
    "param = dist.fit(scaled_error)\n",
    "\n",
    "err_mean=param[-2]\n",
    "err_std=param[-1]\n",
    "\n",
    "# We generate a sample of size  len(mr_scaled) of data distributed according to distribution dist\n",
    "# The function rvs generates a sample with distribution dist with mean loc and std scale\n",
    "test_dist = dist.rvs(*param[0:-2],loc=param[-2], scale=param[-1],size = len(scaled_error))\n",
    "\n",
    "\n",
    "# plot the distribution and compare with a normal\n",
    "\n",
    "ax = sns.histplot(scaled_error, stat='density')\n",
    "\n",
    "# calculate the pdf\n",
    "x0, x1 = ax.get_xlim()  # extract the endpoints for the x-axis\n",
    "x_pdf = np.linspace(x0, x1, 100)\n",
    "y_pdf = scipy.stats.norm.pdf(x_pdf, loc=err_mean, scale=err_std)\n",
    "\n",
    "ax.plot(x_pdf, y_pdf, 'r', lw=2, label='normal')                                                   \n",
    "ax.legend() \n",
    "\n",
    "#plt.hist(nb_error_train,alpha=.3, density=True,bins='auto')\n",
    "#plt.hist(test_dist,alpha=.3, density=True,bins='auto')\n",
    "#plt.show()"
   ]
  },
  {
   "cell_type": "code",
   "execution_count": 8,
   "id": "125a415c",
   "metadata": {},
   "outputs": [],
   "source": [
    "import pickle\n",
    "pickle.dump(LR, open('LinearRegression.pkl', 'wb'))"
   ]
  }
 ],
 "metadata": {
  "kernelspec": {
   "display_name": "Python 3",
   "language": "python",
   "name": "python3"
  },
  "language_info": {
   "codemirror_mode": {
    "name": "ipython",
    "version": 3
   },
   "file_extension": ".py",
   "mimetype": "text/x-python",
   "name": "python",
   "nbconvert_exporter": "python",
   "pygments_lexer": "ipython3",
   "version": "3.8.8"
  }
 },
 "nbformat": 4,
 "nbformat_minor": 5
}
